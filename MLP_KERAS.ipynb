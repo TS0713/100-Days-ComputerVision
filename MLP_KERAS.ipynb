{
  "nbformat": 4,
  "nbformat_minor": 0,
  "metadata": {
    "colab": {
      "provenance": [],
      "collapsed_sections": [],
      "mount_file_id": "1IqRJkS8yIC_xl7Vbw8hqS2kQfuVdc-P7",
      "authorship_tag": "ABX9TyOafqW57IzCGluton5Dpa02",
      "include_colab_link": true
    },
    "kernelspec": {
      "name": "python3",
      "display_name": "Python 3"
    },
    "language_info": {
      "name": "python"
    }
  },
  "cells": [
    {
      "cell_type": "markdown",
      "metadata": {
        "id": "view-in-github",
        "colab_type": "text"
      },
      "source": [
        "<a href=\"https://colab.research.google.com/github/TS0713/100-Days-ComputerVision/blob/main/MLP_KERAS.ipynb\" target=\"_parent\"><img src=\"https://colab.research.google.com/assets/colab-badge.svg\" alt=\"Open In Colab\"/></a>"
      ]
    },
    {
      "cell_type": "code",
      "execution_count": 4,
      "metadata": {
        "id": "0WoWpVCokkX4",
        "colab": {
          "base_uri": "https://localhost:8080/"
        },
        "outputId": "5985e36d-9d2c-4b83-96f0-1214ac97f407"
      },
      "outputs": [
        {
          "output_type": "stream",
          "name": "stdout",
          "text": [
            "Drive already mounted at /content/drive; to attempt to forcibly remount, call drive.mount(\"/content/drive\", force_remount=True).\n"
          ]
        }
      ],
      "source": [
        "from google.colab import drive\n",
        "drive.mount('/content/drive')\n",
        "\n",
        "import os \n",
        "os.getcwd()\n",
        "path = \"/content/drive/MyDrive/Datasets\"\n",
        "os.chdir(path)"
      ]
    },
    {
      "cell_type": "code",
      "source": [
        "import pandas as pd\n",
        "import numpy as np\n",
        "from sklearn.preprocessing import StandardScaler\n",
        "from sklearn.model_selection import train_test_split\n",
        "from sklearn.preprocessing import OneHotEncoder\n",
        "import keras \n",
        "from keras.models import Sequential\n",
        "from keras.layers import Dense\n",
        "from sklearn.metrics import accuracy_score\n",
        "from sklearn.metrics import classification_report"
      ],
      "metadata": {
        "id": "zQKYF2OR1uOp"
      },
      "execution_count": 6,
      "outputs": []
    },
    {
      "cell_type": "code",
      "source": [
        "train_data = pd.read_csv(path+\"/mobile_dataset/train.csv\")\n",
        "train_data.head()\n",
        "X = train_data.iloc[:,:20].values\n",
        "y = train_data.iloc[:,20].values.reshape(2000,-1)\n",
        "\n",
        "scale_fun = StandardScaler().fit(X)\n",
        "X = scale_fun.fit_transform(X)\n",
        "cat_encoder = OneHotEncoder().fit(y)\n",
        "y = cat_encoder.fit_transform(y).toarray()\n",
        "\n",
        "x_train,x_test,y_train,y_test = train_test_split(X,y,test_size=0.1)"
      ],
      "metadata": {
        "id": "96T60TgTtKnN"
      },
      "execution_count": 7,
      "outputs": []
    },
    {
      "cell_type": "code",
      "source": [
        "test_data = pd.read_csv(path+\"/mobile_dataset/test.csv\")\n",
        "test_data.head()\n",
        "test_data_scaled = scale_fun.fit_transform(test_data.values)"
      ],
      "metadata": {
        "id": "0GcalJzXtS3Z"
      },
      "execution_count": 8,
      "outputs": []
    },
    {
      "cell_type": "code",
      "source": [
        "model = Sequential()\n",
        "model.add(Dense(16,input_dim=20,activation=\"relu\"))\n",
        "model.add(Dense(12,activation=\"relu\"))\n",
        "model.add(Dense(4,activation=\"softmax\"))\n",
        "model.compile(loss=\"categorical_crossentropy\",optimizer=\"adam\",metrics=[\"accuracy\"]) # optimizer = keras.optimizers.Adam()\n",
        "history = model.fit(x_train,y_train,epochs=100,batch_size=64,verbose=0)\n"
      ],
      "metadata": {
        "id": "c-xl24pGuwUA"
      },
      "execution_count": 9,
      "outputs": []
    },
    {
      "cell_type": "code",
      "source": [
        "y_test_prob = model.predict(x_test,verbose=0)\n",
        "y_test_pred = []\n",
        "for i in range(len(y_test_prob)):\n",
        "  y_test_pred.append(np.argmax(y_test_prob[i]))\n",
        "y_test_actual = []\n",
        "for i in range(len(y_test)):\n",
        "  y_test_actual.append(np.argmax(y_test[i]))\n",
        "\n",
        "print (\"Accuracy Score: \", accuracy_score(y_test_pred,y_test_actual))"
      ],
      "metadata": {
        "colab": {
          "base_uri": "https://localhost:8080/"
        },
        "id": "MyYRkza9u4rJ",
        "outputId": "b8ecb537-e9a8-42c7-d507-c37182028804"
      },
      "execution_count": 10,
      "outputs": [
        {
          "output_type": "stream",
          "name": "stdout",
          "text": [
            "Accuracy Score:  0.915\n"
          ]
        }
      ]
    },
    {
      "cell_type": "code",
      "source": [
        "history = model.fit(x_train,y_train,validation_data=(x_test,y_test),epochs=100,batch_size=64,verbose=0)\n",
        "import matplotlib.pyplot as plt\n",
        "plt.plot(history.history[\"accuracy\"])\n",
        "plt.plot(history.history[\"val_accuracy\"])\n",
        "plt.title(\"Model Accuracy\")\n",
        "plt.ylabel(\"Accuracy\")\n",
        "plt.xlabel(\"Epoch\")\n",
        "plt.legend([\"Train\",\"Test\"],loc=\"center\")\n",
        "plt.show()"
      ],
      "metadata": {
        "colab": {
          "base_uri": "https://localhost:8080/",
          "height": 295
        },
        "id": "UJ6qNu8h5oah",
        "outputId": "5091221a-d2c4-497b-a410-7321a8bc57e8"
      },
      "execution_count": 12,
      "outputs": [
        {
          "output_type": "display_data",
          "data": {
            "text/plain": [
              "<Figure size 432x288 with 1 Axes>"
            ],
            "image/png": "[encoded data removed]"
          },
          "metadata": {
            "needs_background": "light"
          }
        }
      ]
    },
    {
      "cell_type": "code",
      "source": [
        "import matplotlib.pyplot as plt\n",
        "plt.plot(history.history[\"loss\"])\n",
        "plt.plot(history.history[\"val_loss\"])\n",
        "plt.title(\"Model Loss\")\n",
        "plt.ylabel(\"Loss\")\n",
        "plt.xlabel(\"Epoch\")\n",
        "plt.legend([\"Train\",\"Test\"],loc=\"center\")\n",
        "plt.show()"
      ],
      "metadata": {
        "colab": {
          "base_uri": "https://localhost:8080/",
          "height": 295
        },
        "id": "pnIVOfOBpH2p",
        "outputId": "33ace95a-bc51-457d-b51d-021d3f26e480"
      },
      "execution_count": 13,
      "outputs": [
        {
          "output_type": "display_data",
          "data": {
            "text/plain": [
              "<Figure size 432x288 with 1 Axes>"
            ],
            "image/png": "[encoded data removed]"
          },
          "metadata": {
            "needs_background": "light"
          }
        }
      ]
    },
    {
      "cell_type": "code",
      "source": [
        "print (classification_report(y_test_pred,y_test_actual))"
      ],
      "metadata": {
        "id": "zw7MRYrMqL1U",
        "colab": {
          "base_uri": "https://localhost:8080/"
        },
        "outputId": "86d3bc96-6825-4510-b32b-79ffac910952"
      },
      "execution_count": 18,
      "outputs": [
        {
          "output_type": "stream",
          "name": "stdout",
          "text": [
            "              precision    recall  f1-score   support\n",
            "\n",
            "           0       0.93      0.96      0.95        45\n",
            "           1       0.88      0.90      0.89        39\n",
            "           2       0.88      0.88      0.88        52\n",
            "           3       0.95      0.92      0.94        64\n",
            "\n",
            "    accuracy                           0.92       200\n",
            "   macro avg       0.91      0.91      0.91       200\n",
            "weighted avg       0.92      0.92      0.92       200\n",
            "\n"
          ]
        }
      ]
    }
  ]
}