{
  "nbformat": 4,
  "nbformat_minor": 0,
  "metadata": {
    "colab": {
      "provenance": [],
      "collapsed_sections": [],
      "authorship_tag": "ABX9TyOJ4TXtSVpWUsGSV4qX8tP9",
      "include_colab_link": true
    },
    "kernelspec": {
      "name": "python3",
      "display_name": "Python 3"
    },
    "language_info": {
      "name": "python"
    }
  },
  "cells": [
    {
      "cell_type": "markdown",
      "metadata": {
        "id": "view-in-github",
        "colab_type": "text"
      },
      "source": [
        "<a href=\"https://colab.research.google.com/github/TS0713/100-Days-ComputerVision/blob/main/TransferLearning_Keras.ipynb\" target=\"_parent\"><img src=\"https://colab.research.google.com/assets/colab-badge.svg\" alt=\"Open In Colab\"/></a>"
      ]
    },
    {
      "cell_type": "code",
      "execution_count": 1,
      "metadata": {
        "colab": {
          "base_uri": "https://localhost:8080/"
        },
        "id": "pN_JbbaOm-ed",
        "outputId": "5f3b5635-dec8-41e1-82ab-bab43cc2acc2"
      },
      "outputs": [
        {
          "output_type": "stream",
          "name": "stdout",
          "text": [
            "Mounted at /content/drive\n",
            "Looking in indexes: https://pypi.org/simple, https://us-python.pkg.dev/colab-wheels/public/simple/\n",
            "Collecting idx2numpy\n",
            "  Downloading idx2numpy-1.2.3.tar.gz (6.8 kB)\n",
            "Requirement already satisfied: numpy in /usr/local/lib/python3.7/dist-packages (from idx2numpy) (1.21.6)\n",
            "Requirement already satisfied: six in /usr/local/lib/python3.7/dist-packages (from idx2numpy) (1.15.0)\n",
            "Building wheels for collected packages: idx2numpy\n",
            "  Building wheel for idx2numpy (setup.py) ... \u001b[?25l\u001b[?25hdone\n",
            "  Created wheel for idx2numpy: filename=idx2numpy-1.2.3-py3-none-any.whl size=7917 sha256=22a8bbcb8fa2251513a9962f743bff1e5d8b7d2d968b6a94e09c262c246d0ef0\n",
            "  Stored in directory: /root/.cache/pip/wheels/1a/ce/ad/d5e95a35cfe34149aade5e500f2edd535c0566d79e9a8e1d8a\n",
            "Successfully built idx2numpy\n",
            "Installing collected packages: idx2numpy\n",
            "Successfully installed idx2numpy-1.2.3\n"
          ]
        }
      ],
      "source": [
        "from google.colab import drive\n",
        "drive.mount('/content/drive')\n",
        "import os \n",
        "os.getcwd()\n",
        "path = \"/content/drive/MyDrive/Datasets\"\n",
        "os.chdir(path)\n",
        "!pip install idx2numpy"
      ]
    },
    {
      "cell_type": "code",
      "source": [
        "import numpy as np\n",
        "import idx2numpy\n",
        "import cv2\n",
        "from PIL import Image\n",
        "from pathlib import Path\n",
        "import matplotlib.pyplot as plt \n",
        "from keras.optimizers import Adam\n",
        "from keras.applications.vgg16 import VGG16, preprocess_input\n",
        "from keras.preprocessing.image import ImageDataGenerator\n",
        "from keras.callbacks import ModelCheckpoint, EarlyStopping\n",
        "from keras.utils import to_categorical\n",
        "from keras.models import Sequential, Model\n",
        "from keras.layers import Dense,Conv2D,Flatten,MaxPooling2D,Dropout"
      ],
      "metadata": {
        "id": "FwHnjR_bnAbK"
      },
      "execution_count": 4,
      "outputs": []
    },
    {
      "cell_type": "code",
      "source": [
        "data_path = path+\"/MNIST_dataset/\"\n",
        "train_x = idx2numpy.convert_from_file(data_path+\"train-images.idx3-ubyte\")\n",
        "train_x  = train_x.reshape(*train_x.shape,1) # 60000, 28, 28\n",
        "train_y = idx2numpy.convert_from_file(data_path+\"train-labels.idx1-ubyte\")\n",
        "train_y = to_categorical(train_y)\n",
        "test_x = idx2numpy.convert_from_file(data_path+\"t10k-images.idx3-ubyte\")\n",
        "test_x = test_x.reshape(*test_x.shape,1) # 60000, 28, 28\n",
        "test_y = idx2numpy.convert_from_file(data_path+\"t10k-labels.idx1-ubyte\")\n",
        "test_y = to_categorical(test_y)"
      ],
      "metadata": {
        "id": "PX4px_aanJSv"
      },
      "execution_count": 5,
      "outputs": []
    },
    {
      "cell_type": "markdown",
      "source": [
        "Reference Link: https://www.learndatasci.com/tutorials/hands-on-transfer-learning-keras/ "
      ],
      "metadata": {
        "id": "j5-C9XoaBE5i"
      }
    },
    {
      "cell_type": "code",
      "source": [
        "def create_transfer_model(\n",
        "                       input_shape,\n",
        "                       n_classes, \n",
        "                       model_name=VGG16,\n",
        "                       include_top=False,\n",
        "                       optimizer='rmsprop', \n",
        "                       fine_tune=0):\n",
        "\n",
        "  base_transfer_model = model_name(include_top=include_top,\n",
        "                              weights=\"imagenet\",\n",
        "                              input_shape=input_shape)\n",
        "  \n",
        "  if fine_tune > 0:\n",
        "    for layer in base_transfer_model.layers[:-fine_tune]:\n",
        "      layer.trainable=False\n",
        "  else:\n",
        "    for layer in base_transfer_model.layers:\n",
        "      layer.trainable=False\n",
        "  \n",
        "\n",
        "  FC_model = base_transfer_model.output\n",
        "  FC_model = Flatten(name=\"flatten\")(FC_model)\n",
        "  FC_model = Dense(4096,activation=\"relu\")(FC_model)\n",
        "  FC_model = Dense(1072,activation=\"relu\")(FC_model)\n",
        "  FC_model = Dropout(0.2)(FC_model)\n",
        "  output_layer  = Dense(n_classes,activation=\"softmax\")(FC_model)\n",
        "\n",
        "  model = Model(inputs=base_transfer_model.input,outputs=output_layer)\n",
        "\n",
        "  model.compile(optimizer=optimizer,\n",
        "                loss=\"categorical_crossentropy\",\n",
        "                metrics=[\"accuracy\"])\n",
        "  return model\n"
      ],
      "metadata": {
        "id": "e3dDj4VZCW3z"
      },
      "execution_count": 93,
      "outputs": []
    },
    {
      "cell_type": "code",
      "source": [
        "input_shape = (32, 32, 3)\n",
        "optimizer_ = Adam(learning_rate=0.001)\n",
        "n_classes=test_y.shape[1]\n",
        "vgg_transfer_model = create_transfer_model(input_shape=input_shape,\n",
        "                                           n_classes=n_classes,\n",
        "                                           model_name=VGG16,\n",
        "                                           optimizer=optimizer_,\n",
        "                                           fine_tune=0)\n",
        "\n",
        "vgg_transfer_model.summary()"
      ],
      "metadata": {
        "id": "pH0PH9N8dE7W",
        "colab": {
          "base_uri": "https://localhost:8080/"
        },
        "outputId": "8b1be76f-b622-4107-b4ad-f29a6af1dbfc"
      },
      "execution_count": 94,
      "outputs": [
        {
          "output_type": "stream",
          "name": "stdout",
          "text": [
            "Model: \"model_3\"\n",
            "_________________________________________________________________\n",
            " Layer (type)                Output Shape              Param #   \n",
            "=================================================================\n",
            " input_7 (InputLayer)        [(None, 32, 32, 3)]       0         \n",
            "                                                                 \n",
            " block1_conv1 (Conv2D)       (None, 32, 32, 64)        1792      \n",
            "                                                                 \n",
            " block1_conv2 (Conv2D)       (None, 32, 32, 64)        36928     \n",
            "                                                                 \n",
            " block1_pool (MaxPooling2D)  (None, 16, 16, 64)        0         \n",
            "                                                                 \n",
            " block2_conv1 (Conv2D)       (None, 16, 16, 128)       73856     \n",
            "                                                                 \n",
            " block2_conv2 (Conv2D)       (None, 16, 16, 128)       147584    \n",
            "                                                                 \n",
            " block2_pool (MaxPooling2D)  (None, 8, 8, 128)         0         \n",
            "                                                                 \n",
            " block3_conv1 (Conv2D)       (None, 8, 8, 256)         295168    \n",
            "                                                                 \n",
            " block3_conv2 (Conv2D)       (None, 8, 8, 256)         590080    \n",
            "                                                                 \n",
            " block3_conv3 (Conv2D)       (None, 8, 8, 256)         590080    \n",
            "                                                                 \n",
            " block3_pool (MaxPooling2D)  (None, 4, 4, 256)         0         \n",
            "                                                                 \n",
            " block4_conv1 (Conv2D)       (None, 4, 4, 512)         1180160   \n",
            "                                                                 \n",
            " block4_conv2 (Conv2D)       (None, 4, 4, 512)         2359808   \n",
            "                                                                 \n",
            " block4_conv3 (Conv2D)       (None, 4, 4, 512)         2359808   \n",
            "                                                                 \n",
            " block4_pool (MaxPooling2D)  (None, 2, 2, 512)         0         \n",
            "                                                                 \n",
            " block5_conv1 (Conv2D)       (None, 2, 2, 512)         2359808   \n",
            "                                                                 \n",
            " block5_conv2 (Conv2D)       (None, 2, 2, 512)         2359808   \n",
            "                                                                 \n",
            " block5_conv3 (Conv2D)       (None, 2, 2, 512)         2359808   \n",
            "                                                                 \n",
            " block5_pool (MaxPooling2D)  (None, 1, 1, 512)         0         \n",
            "                                                                 \n",
            " flatten (Flatten)           (None, 512)               0         \n",
            "                                                                 \n",
            " dense_9 (Dense)             (None, 4096)              2101248   \n",
            "                                                                 \n",
            " dense_10 (Dense)            (None, 1072)              4391984   \n",
            "                                                                 \n",
            " dropout_3 (Dropout)         (None, 1072)              0         \n",
            "                                                                 \n",
            " dense_11 (Dense)            (None, 10)                10730     \n",
            "                                                                 \n",
            "=================================================================\n",
            "Total params: 21,218,650\n",
            "Trainable params: 6,503,962\n",
            "Non-trainable params: 14,714,688\n",
            "_________________________________________________________________\n"
          ]
        }
      ]
    },
    {
      "cell_type": "code",
      "source": [
        "def image_preprocess(inp_images,input_shape):\n",
        "\n",
        "  inp_images = np.array([cv2.cvtColor(i,cv2.COLOR_GRAY2RGB) for i in inp_images])\n",
        "  inp_images = [Image.fromarray(i) for i in inp_images]\n",
        "  inp_images = [np.array(i.resize(input_shape,Image.BILINEAR)) for i in inp_images]\n",
        "  inp_images = np.array(inp_images)\n",
        "  return inp_images\n",
        "\n"
      ],
      "metadata": {
        "id": "xrePMQbyIBe2"
      },
      "execution_count": 95,
      "outputs": []
    },
    {
      "cell_type": "code",
      "source": [
        "train_x_rgb = image_preprocess(train_x,(32,32))\n",
        "test_x_rgb = image_preprocess(test_x,(32,32))"
      ],
      "metadata": {
        "id": "tUw8cXd4M6PC"
      },
      "execution_count": 96,
      "outputs": []
    },
    {
      "cell_type": "code",
      "source": [
        "vgg_history = vgg_transfer_model.fit(train_x_rgb[:5000],train_y[:5000],\n",
        "                            batch_size=64,\n",
        "                            epochs=10,\n",
        "                            validation_data=(test_x_rgb,test_y),\n",
        "                            callbacks=[EarlyStopping(monitor=\"val_loss\",patience=10)],\n",
        "                            verbose=1)"
      ],
      "metadata": {
        "colab": {
          "base_uri": "https://localhost:8080/"
        },
        "id": "56jfoQMkmHb9",
        "outputId": "3ae8685f-1c20-4359-82f2-f845beb8b22a"
      },
      "execution_count": 97,
      "outputs": [
        {
          "output_type": "stream",
          "name": "stdout",
          "text": [
            "Epoch 1/10\n",
            "79/79 [==============================] - 117s 1s/step - loss: 3.2213 - accuracy: 0.7528 - val_loss: 0.4085 - val_accuracy: 0.8644\n",
            "Epoch 2/10\n",
            "79/79 [==============================] - 113s 1s/step - loss: 0.2967 - accuracy: 0.9040 - val_loss: 0.3191 - val_accuracy: 0.8941\n",
            "Epoch 3/10\n",
            "79/79 [==============================] - 114s 1s/step - loss: 0.2265 - accuracy: 0.9262 - val_loss: 0.2507 - val_accuracy: 0.9181\n",
            "Epoch 4/10\n",
            "79/79 [==============================] - 113s 1s/step - loss: 0.1816 - accuracy: 0.9396 - val_loss: 0.2587 - val_accuracy: 0.9218\n",
            "Epoch 5/10\n",
            "79/79 [==============================] - 114s 1s/step - loss: 0.1400 - accuracy: 0.9566 - val_loss: 0.2601 - val_accuracy: 0.9209\n",
            "Epoch 6/10\n",
            "79/79 [==============================] - 113s 1s/step - loss: 0.1030 - accuracy: 0.9668 - val_loss: 0.3306 - val_accuracy: 0.9067\n",
            "Epoch 7/10\n",
            "79/79 [==============================] - 115s 1s/step - loss: 0.0952 - accuracy: 0.9670 - val_loss: 0.2706 - val_accuracy: 0.9234\n",
            "Epoch 8/10\n",
            "79/79 [==============================] - 113s 1s/step - loss: 0.0932 - accuracy: 0.9700 - val_loss: 0.3381 - val_accuracy: 0.9085\n",
            "Epoch 9/10\n",
            "79/79 [==============================] - 115s 1s/step - loss: 0.1163 - accuracy: 0.9610 - val_loss: 0.3435 - val_accuracy: 0.9117\n",
            "Epoch 10/10\n",
            "79/79 [==============================] - 127s 2s/step - loss: 0.1134 - accuracy: 0.9620 - val_loss: 0.3127 - val_accuracy: 0.9234\n"
          ]
        }
      ]
    },
    {
      "cell_type": "code",
      "source": [
        "import matplotlib.pyplot as plt\n",
        "plt.plot(vgg_history.history[\"accuracy\"])\n",
        "plt.plot(vgg_history.history[\"val_accuracy\"])\n",
        "plt.title(\"Model Accuracy\")\n",
        "plt.ylabel(\"Accuracy\")\n",
        "plt.xlabel(\"Epoch\")\n",
        "plt.legend([\"Train\",\"Test\"],loc=\"upper left\")\n",
        "plt.show()"
      ],
      "metadata": {
        "colab": {
          "base_uri": "https://localhost:8080/",
          "height": 295
        },
        "id": "CDKeAR4jWfYi",
        "outputId": "32d8e7da-bfd9-4492-ddf9-9572aa63fe64"
      },
      "execution_count": 98,
      "outputs": [
        {
          "output_type": "display_data",
          "data": {
            "text/plain": [
              "<Figure size 432x288 with 1 Axes>"
            ],
            "image/png": "[encoded data removed]"
          },
          "metadata": {
            "needs_background": "light"
          }
        }
      ]
    },
    {
      "cell_type": "code",
      "source": [
        "plt.plot(vgg_history.history[\"loss\"])\n",
        "plt.plot(vgg_history.history[\"val_loss\"])\n",
        "plt.title(\"Model Loss\")\n",
        "plt.ylabel(\"Loss\")\n",
        "plt.xlabel(\"Epoch\")\n",
        "plt.legend([\"Train\",\"Test\"],loc=\"upper left\")\n",
        "plt.show()"
      ],
      "metadata": {
        "colab": {
          "base_uri": "https://localhost:8080/",
          "height": 295
        },
        "id": "ChFo2dtYyBHt",
        "outputId": "dd69b9d8-5281-4686-feb8-cf1713ef2839"
      },
      "execution_count": 99,
      "outputs": [
        {
          "output_type": "display_data",
          "data": {
            "text/plain": [
              "<Figure size 432x288 with 1 Axes>"
            ],
            "image/png": "[encoded data removed]"
          },
          "metadata": {
            "needs_background": "light"
          }
        }
      ]
    },
    {
      "cell_type": "code",
      "source": [],
      "metadata": {
        "id": "HEjUBpiR8j_J"
      },
      "execution_count": null,
      "outputs": []
    }
  ]
}